{
 "cells": [
  {
   "cell_type": "markdown",
   "id": "65950fbf",
   "metadata": {},
   "source": [
    "# print (\"Hola a todos\")"
   ]
  },
  {
   "cell_type": "code",
   "execution_count": 9,
   "id": "6053f1e8",
   "metadata": {},
   "outputs": [],
   "source": [
    "a = 3\n",
    "b = 4\n",
    "suma = a + b"
   ]
  },
  {
   "cell_type": "code",
   "execution_count": 10,
   "id": "4e07052a",
   "metadata": {
    "scrolled": true
   },
   "outputs": [
    {
     "data": {
      "text/plain": [
       "7"
      ]
     },
     "execution_count": 10,
     "metadata": {},
     "output_type": "execute_result"
    }
   ],
   "source": [
    "suma"
   ]
  },
  {
   "cell_type": "markdown",
   "id": "e1ca982d",
   "metadata": {},
   "source": [
    "<h1> Hola a todos </h1>"
   ]
  },
  {
   "cell_type": "code",
   "execution_count": 11,
   "id": "00c5238a",
   "metadata": {
    "scrolled": true
   },
   "outputs": [
    {
     "ename": "SyntaxError",
     "evalue": "invalid syntax (3290861066.py, line 1)",
     "output_type": "error",
     "traceback": [
      "\u001b[1;36m  Cell \u001b[1;32mIn[11], line 1\u001b[1;36m\u001b[0m\n\u001b[1;33m    <h1> Hola a todos </h1>\u001b[0m\n\u001b[1;37m    ^\u001b[0m\n\u001b[1;31mSyntaxError\u001b[0m\u001b[1;31m:\u001b[0m invalid syntax\n"
     ]
    }
   ],
   "source": [
    "<h1> Hola a todos </h1>"
   ]
  },
  {
   "cell_type": "markdown",
   "id": "ae2e660c",
   "metadata": {},
   "source": [
    "<h1> Hola a todos </h1>\n",
    "<h3> Hola a todos </h3>\n",
    "<h6> Hola a todos </h6>"
   ]
  },
  {
   "cell_type": "markdown",
   "id": "7e525e7e",
   "metadata": {},
   "source": [
    "<p> Data analytics (análisis de datos) es un enfoque que implica el análisis de datos (big data, en particular) para sacar conclusiones <p>\n",
    "    "
   ]
  },
  {
   "cell_type": "markdown",
   "id": "b96c1385",
   "metadata": {},
   "source": [
    "<img src = \"imagen data analytics.jpg\">"
   ]
  },
  {
   "cell_type": "code",
   "execution_count": null,
   "id": "ba811f4f",
   "metadata": {},
   "outputs": [],
   "source": [
    "<img src = \"imagen data analytics.jpg\">\n",
    "<h2 Style = \"color:#CC9900; text-align: center\" > Ejemplo de todo unido </h2>\n",
    "\n",
    "<p Style = \"font-family: serif\"> Este es el primer ejemplo, sobre la utilización de HTML en los proyectos de análisis de datos para poder dar formato a los documentos que se creen en los ambitos laborales.\n",
    "\n",
    "<p Style = \"font-family: serif; font-weight: bold\"> Estos documentos consideran entre otras cosas lo siguiente: </p>\n",
    "\n",
    "<ol> \n",
    "<li> Carga de datos </li>\n",
    "<li> Limpieza de datos </li>\n",
    "<li> Graficado </li>  \n",
    "</ol>\n"
   ]
  },
  {
   "cell_type": "markdown",
   "id": "879bbf9b",
   "metadata": {},
   "source": []
  }
 ],
 "metadata": {
  "kernelspec": {
   "display_name": "Python 3 (ipykernel)",
   "language": "python",
   "name": "python3"
  },
  "language_info": {
   "codemirror_mode": {
    "name": "ipython",
    "version": 3
   },
   "file_extension": ".py",
   "mimetype": "text/x-python",
   "name": "python",
   "nbconvert_exporter": "python",
   "pygments_lexer": "ipython3",
   "version": "3.10.9"
  }
 },
 "nbformat": 4,
 "nbformat_minor": 5
}
