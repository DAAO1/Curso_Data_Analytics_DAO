{
 "cells": [
  {
   "cell_type": "markdown",
   "id": "8465e1e3",
   "metadata": {},
   "source": [
    "<p Style= \"text-align: right\"> 06/24/2023 </p>\n",
    "\n",
    "<img src = \"real_state_for_sale.jpg\">\n",
    "<h2 Style = \"color:#48586f; text-align: center; font-weight: bold\" > Proyecto: Análisis de la venta de bienes raíces en el Estado de Connecticut desde el año 2001 al 2020. </h2>\n",
    "\n",
    "<p> A través de este proyecto se pretende realizar la aplicación de los contenidos observados durante el desarrollo del curso de Análisis de Datos. </p>\n",
    "\n",
    "<p Style = \"text-align: justify\"> En este caso se realizará un análisis de los datos de las ventas de bienes raíces del Estado de Connecticut desde el año 2001 al 2020.</p>\n",
    "\n",
    "<h3 Style = \"text-align: center; font-weight: bold; color: #ff995e\" > Preguntas de Investigación: </h3>\n",
    "    \n",
    "<p\n",
    "<ol>\n",
    "    <li> ¿Cuál es el ingreso anual de las propiedades vendidas?\n",
    "    <li> ¿Qué tipo de propiedad tiene mayor facilidad de venta?\n",
    "    <li> ¿En cuál ciudad o pueblo se dan mayor cantidad de ventas de propiedades? ¿Qué elementos particulares tienen esas ciudades o pueblos?\n",
    "    <li> ¿Cuál es el costo promedio de las propiedades residenciales y comerciales? \n",
    "    <li> ¿Cuáles tipo de propiedades residenciales que se venden con mayor frecuencia, dónde y con qué costo promedio?\n",
    "    <li> ¿Cuál es el margen promedio de ganancia por cada una de las propiedades vendidas?   \n",
    "<ol>\n",
    "</p>\n",
    "<p Style = \"text-align: justify\"> Adicionalmente, en función de los datos se determinará una estrategia de ventas de propiedades en alguna ciudad. Y también se incluirán otros datos que por el contexto del negocio son relevantes para la toma de decisiones.</p>\n",
    "\n",
    "</br>"
   ]
  },
  {
   "cell_type": "code",
   "execution_count": 1,
   "id": "022028e6",
   "metadata": {},
   "outputs": [],
   "source": [
    "import pandas as pd #Se usa para el manejo de dataFrame.\n",
    "import numpy as np #Se usa para el manejo de estructuras de datos.\n",
    "import matplotlib.pyplot as plt #Se usa para crear graficos.\n",
    "from matplotlib.ticker import FuncFormatter"
   ]
  },
  {
   "cell_type": "markdown",
   "id": "a098b1f1",
   "metadata": {},
   "source": [
    "<h4 Style = \"color: #FF8C00\"> Importacion de set de datos del proyecto </h4>"
   ]
  },
  {
   "cell_type": "code",
   "execution_count": 2,
   "id": "601639df",
   "metadata": {},
   "outputs": [],
   "source": [
    "cols = [\"Serial Number\", \"List Year\", \"Date Recorded\", \"Town\", \"Address\", \"Assessed Value\",\n",
    "        \"Sale Amount\", \"Sales Ratio\", \"Property Type\", \"Residential Type\", \"Non Use Code\",\n",
    "        \"Assessor Remarks\", \"OPM remarks\", \"Location\"]\n",
    "\n",
    "df_proyecto = pd.read_csv(\"DataSet.csv\", usecols=range(14), low_memory=False)"
   ]
  },
  {
   "cell_type": "markdown",
   "id": "f90d1bb7",
   "metadata": {},
   "source": [
    "<h4 Style = \"color: #6495ED\"> Exploracion inicial del set de datos del proyecto </h4>"
   ]
  },
  {
   "cell_type": "code",
   "execution_count": 3,
   "id": "dc351f3b",
   "metadata": {},
   "outputs": [
    {
     "data": {
      "text/plain": [
       "(200013, 14)"
      ]
     },
     "execution_count": 3,
     "metadata": {},
     "output_type": "execute_result"
    }
   ],
   "source": [
    "df_proyecto.shape"
   ]
  },
  {
   "cell_type": "code",
   "execution_count": 4,
   "id": "1071ff09",
   "metadata": {},
   "outputs": [
    {
     "data": {
      "text/plain": [
       "Index(['Serial Number', 'List Year', 'Date Recorded', 'Town', 'Address',\n",
       "       'Assessed Value', 'Sale Amount', 'Sales Ratio', 'Property Type',\n",
       "       'Residential Type', 'Non Use Code', 'Assessor Remarks', 'OPM remarks',\n",
       "       'Location'],\n",
       "      dtype='object')"
      ]
     },
     "execution_count": 4,
     "metadata": {},
     "output_type": "execute_result"
    }
   ],
   "source": [
    "df_proyecto.columns"
   ]
  },
  {
   "cell_type": "code",
   "execution_count": 5,
   "id": "6e9f41c4",
   "metadata": {
    "scrolled": false
   },
   "outputs": [
    {
     "data": {
      "text/html": [
       "<div>\n",
       "<style scoped>\n",
       "    .dataframe tbody tr th:only-of-type {\n",
       "        vertical-align: middle;\n",
       "    }\n",
       "\n",
       "    .dataframe tbody tr th {\n",
       "        vertical-align: top;\n",
       "    }\n",
       "\n",
       "    .dataframe thead th {\n",
       "        text-align: right;\n",
       "    }\n",
       "</style>\n",
       "<table border=\"1\" class=\"dataframe\">\n",
       "  <thead>\n",
       "    <tr style=\"text-align: right;\">\n",
       "      <th></th>\n",
       "      <th>Serial Number</th>\n",
       "      <th>List Year</th>\n",
       "      <th>Date Recorded</th>\n",
       "      <th>Town</th>\n",
       "      <th>Address</th>\n",
       "      <th>Assessed Value</th>\n",
       "      <th>Sale Amount</th>\n",
       "      <th>Sales Ratio</th>\n",
       "      <th>Property Type</th>\n",
       "      <th>Residential Type</th>\n",
       "      <th>Non Use Code</th>\n",
       "      <th>Assessor Remarks</th>\n",
       "      <th>OPM remarks</th>\n",
       "      <th>Location</th>\n",
       "    </tr>\n",
       "  </thead>\n",
       "  <tbody>\n",
       "    <tr>\n",
       "      <th>0</th>\n",
       "      <td>2020348</td>\n",
       "      <td>2020</td>\n",
       "      <td>9/13/2021</td>\n",
       "      <td>Ansonia</td>\n",
       "      <td>230 WAKELEE AVE</td>\n",
       "      <td>150500</td>\n",
       "      <td>325000</td>\n",
       "      <td>0.463</td>\n",
       "      <td>Commercial</td>\n",
       "      <td>NaN</td>\n",
       "      <td>NaN</td>\n",
       "      <td>NaN</td>\n",
       "      <td>NaN</td>\n",
       "      <td>NaN</td>\n",
       "    </tr>\n",
       "    <tr>\n",
       "      <th>1</th>\n",
       "      <td>20002</td>\n",
       "      <td>2020</td>\n",
       "      <td>10/2/2020</td>\n",
       "      <td>Ashford</td>\n",
       "      <td>390 TURNPIKE RD</td>\n",
       "      <td>253000</td>\n",
       "      <td>430000</td>\n",
       "      <td>0.5883</td>\n",
       "      <td>Residential</td>\n",
       "      <td>Single Family</td>\n",
       "      <td>NaN</td>\n",
       "      <td>NaN</td>\n",
       "      <td>NaN</td>\n",
       "      <td>NaN</td>\n",
       "    </tr>\n",
       "    <tr>\n",
       "      <th>2</th>\n",
       "      <td>200212</td>\n",
       "      <td>2020</td>\n",
       "      <td>3/9/2021</td>\n",
       "      <td>Avon</td>\n",
       "      <td>5 CHESTNUT DRIVE</td>\n",
       "      <td>130400</td>\n",
       "      <td>179900</td>\n",
       "      <td>0.7248</td>\n",
       "      <td>Residential</td>\n",
       "      <td>Condo</td>\n",
       "      <td>NaN</td>\n",
       "      <td>NaN</td>\n",
       "      <td>NaN</td>\n",
       "      <td>NaN</td>\n",
       "    </tr>\n",
       "    <tr>\n",
       "      <th>3</th>\n",
       "      <td>200243</td>\n",
       "      <td>2020</td>\n",
       "      <td>4/13/2021</td>\n",
       "      <td>Avon</td>\n",
       "      <td>111 NORTHINGTON DRIVE</td>\n",
       "      <td>619290</td>\n",
       "      <td>890000</td>\n",
       "      <td>0.6958</td>\n",
       "      <td>Residential</td>\n",
       "      <td>Single Family</td>\n",
       "      <td>NaN</td>\n",
       "      <td>NaN</td>\n",
       "      <td>NaN</td>\n",
       "      <td>NaN</td>\n",
       "    </tr>\n",
       "    <tr>\n",
       "      <th>4</th>\n",
       "      <td>200377</td>\n",
       "      <td>2020</td>\n",
       "      <td>7/2/2021</td>\n",
       "      <td>Avon</td>\n",
       "      <td>70 FAR HILLS DRIVE</td>\n",
       "      <td>862330</td>\n",
       "      <td>1447500</td>\n",
       "      <td>0.5957</td>\n",
       "      <td>Residential</td>\n",
       "      <td>Single Family</td>\n",
       "      <td>NaN</td>\n",
       "      <td>NaN</td>\n",
       "      <td>NaN</td>\n",
       "      <td>NaN</td>\n",
       "    </tr>\n",
       "  </tbody>\n",
       "</table>\n",
       "</div>"
      ],
      "text/plain": [
       "   Serial Number  List Year Date Recorded     Town                Address  \\\n",
       "0        2020348       2020     9/13/2021  Ansonia        230 WAKELEE AVE   \n",
       "1          20002       2020     10/2/2020  Ashford        390 TURNPIKE RD   \n",
       "2         200212       2020      3/9/2021     Avon       5 CHESTNUT DRIVE   \n",
       "3         200243       2020     4/13/2021     Avon  111 NORTHINGTON DRIVE   \n",
       "4         200377       2020      7/2/2021     Avon     70 FAR HILLS DRIVE   \n",
       "\n",
       "  Assessed Value Sale Amount Sales Ratio Property Type Residential Type  \\\n",
       "0         150500      325000       0.463    Commercial              NaN   \n",
       "1         253000      430000      0.5883   Residential    Single Family   \n",
       "2         130400      179900      0.7248   Residential            Condo   \n",
       "3         619290      890000      0.6958   Residential    Single Family   \n",
       "4         862330     1447500      0.5957   Residential    Single Family   \n",
       "\n",
       "  Non Use Code Assessor Remarks OPM remarks Location  \n",
       "0          NaN              NaN         NaN      NaN  \n",
       "1          NaN              NaN         NaN      NaN  \n",
       "2          NaN              NaN         NaN      NaN  \n",
       "3          NaN              NaN         NaN      NaN  \n",
       "4          NaN              NaN         NaN      NaN  "
      ]
     },
     "execution_count": 5,
     "metadata": {},
     "output_type": "execute_result"
    }
   ],
   "source": [
    "df_proyecto.head(5)"
   ]
  },
  {
   "cell_type": "code",
   "execution_count": 6,
   "id": "280d602f",
   "metadata": {},
   "outputs": [
    {
     "data": {
      "text/html": [
       "<div>\n",
       "<style scoped>\n",
       "    .dataframe tbody tr th:only-of-type {\n",
       "        vertical-align: middle;\n",
       "    }\n",
       "\n",
       "    .dataframe tbody tr th {\n",
       "        vertical-align: top;\n",
       "    }\n",
       "\n",
       "    .dataframe thead th {\n",
       "        text-align: right;\n",
       "    }\n",
       "</style>\n",
       "<table border=\"1\" class=\"dataframe\">\n",
       "  <thead>\n",
       "    <tr style=\"text-align: right;\">\n",
       "      <th></th>\n",
       "      <th>Serial Number</th>\n",
       "      <th>List Year</th>\n",
       "      <th>Date Recorded</th>\n",
       "      <th>Town</th>\n",
       "      <th>Address</th>\n",
       "      <th>Assessed Value</th>\n",
       "      <th>Sale Amount</th>\n",
       "      <th>Sales Ratio</th>\n",
       "      <th>Property Type</th>\n",
       "      <th>Residential Type</th>\n",
       "      <th>Non Use Code</th>\n",
       "      <th>Assessor Remarks</th>\n",
       "      <th>OPM remarks</th>\n",
       "      <th>Location</th>\n",
       "    </tr>\n",
       "  </thead>\n",
       "  <tbody>\n",
       "    <tr>\n",
       "      <th>count</th>\n",
       "      <td>2.000130e+05</td>\n",
       "      <td>200013.000000</td>\n",
       "      <td>200011</td>\n",
       "      <td>200013</td>\n",
       "      <td>200009</td>\n",
       "      <td>200013</td>\n",
       "      <td>200011</td>\n",
       "      <td>200011</td>\n",
       "      <td>66296</td>\n",
       "      <td>60882</td>\n",
       "      <td>45783</td>\n",
       "      <td>14350</td>\n",
       "      <td>2895</td>\n",
       "      <td>57095</td>\n",
       "    </tr>\n",
       "    <tr>\n",
       "      <th>unique</th>\n",
       "      <td>NaN</td>\n",
       "      <td>NaN</td>\n",
       "      <td>2413</td>\n",
       "      <td>169</td>\n",
       "      <td>177821</td>\n",
       "      <td>41926</td>\n",
       "      <td>15702</td>\n",
       "      <td>114428</td>\n",
       "      <td>6</td>\n",
       "      <td>5</td>\n",
       "      <td>91</td>\n",
       "      <td>7970</td>\n",
       "      <td>1668</td>\n",
       "      <td>48863</td>\n",
       "    </tr>\n",
       "    <tr>\n",
       "      <th>top</th>\n",
       "      <td>NaN</td>\n",
       "      <td>NaN</td>\n",
       "      <td>7/1/2002</td>\n",
       "      <td>Stamford</td>\n",
       "      <td>MULTI ADDRESSES</td>\n",
       "      <td>0</td>\n",
       "      <td>150000</td>\n",
       "      <td>0</td>\n",
       "      <td>Residential</td>\n",
       "      <td>Single Family</td>\n",
       "      <td>7</td>\n",
       "      <td>ESTATE SALE</td>\n",
       "      <td>GOOD SALE PER MLS</td>\n",
       "      <td>0</td>\n",
       "    </tr>\n",
       "    <tr>\n",
       "      <th>freq</th>\n",
       "      <td>NaN</td>\n",
       "      <td>NaN</td>\n",
       "      <td>779</td>\n",
       "      <td>7853</td>\n",
       "      <td>475</td>\n",
       "      <td>1537</td>\n",
       "      <td>1992</td>\n",
       "      <td>2252</td>\n",
       "      <td>60506</td>\n",
       "      <td>43267</td>\n",
       "      <td>9299</td>\n",
       "      <td>466</td>\n",
       "      <td>229</td>\n",
       "      <td>49</td>\n",
       "    </tr>\n",
       "    <tr>\n",
       "      <th>mean</th>\n",
       "      <td>1.112790e+06</td>\n",
       "      <td>2007.822467</td>\n",
       "      <td>NaN</td>\n",
       "      <td>NaN</td>\n",
       "      <td>NaN</td>\n",
       "      <td>NaN</td>\n",
       "      <td>NaN</td>\n",
       "      <td>NaN</td>\n",
       "      <td>NaN</td>\n",
       "      <td>NaN</td>\n",
       "      <td>NaN</td>\n",
       "      <td>NaN</td>\n",
       "      <td>NaN</td>\n",
       "      <td>NaN</td>\n",
       "    </tr>\n",
       "    <tr>\n",
       "      <th>std</th>\n",
       "      <td>1.272975e+07</td>\n",
       "      <td>8.656000</td>\n",
       "      <td>NaN</td>\n",
       "      <td>NaN</td>\n",
       "      <td>NaN</td>\n",
       "      <td>NaN</td>\n",
       "      <td>NaN</td>\n",
       "      <td>NaN</td>\n",
       "      <td>NaN</td>\n",
       "      <td>NaN</td>\n",
       "      <td>NaN</td>\n",
       "      <td>NaN</td>\n",
       "      <td>NaN</td>\n",
       "      <td>NaN</td>\n",
       "    </tr>\n",
       "    <tr>\n",
       "      <th>min</th>\n",
       "      <td>0.000000e+00</td>\n",
       "      <td>2001.000000</td>\n",
       "      <td>NaN</td>\n",
       "      <td>NaN</td>\n",
       "      <td>NaN</td>\n",
       "      <td>NaN</td>\n",
       "      <td>NaN</td>\n",
       "      <td>NaN</td>\n",
       "      <td>NaN</td>\n",
       "      <td>NaN</td>\n",
       "      <td>NaN</td>\n",
       "      <td>NaN</td>\n",
       "      <td>NaN</td>\n",
       "      <td>NaN</td>\n",
       "    </tr>\n",
       "    <tr>\n",
       "      <th>25%</th>\n",
       "      <td>1.096800e+04</td>\n",
       "      <td>2001.000000</td>\n",
       "      <td>NaN</td>\n",
       "      <td>NaN</td>\n",
       "      <td>NaN</td>\n",
       "      <td>NaN</td>\n",
       "      <td>NaN</td>\n",
       "      <td>NaN</td>\n",
       "      <td>NaN</td>\n",
       "      <td>NaN</td>\n",
       "      <td>NaN</td>\n",
       "      <td>NaN</td>\n",
       "      <td>NaN</td>\n",
       "      <td>NaN</td>\n",
       "    </tr>\n",
       "    <tr>\n",
       "      <th>50%</th>\n",
       "      <td>2.040100e+04</td>\n",
       "      <td>2002.000000</td>\n",
       "      <td>NaN</td>\n",
       "      <td>NaN</td>\n",
       "      <td>NaN</td>\n",
       "      <td>NaN</td>\n",
       "      <td>NaN</td>\n",
       "      <td>NaN</td>\n",
       "      <td>NaN</td>\n",
       "      <td>NaN</td>\n",
       "      <td>NaN</td>\n",
       "      <td>NaN</td>\n",
       "      <td>NaN</td>\n",
       "      <td>NaN</td>\n",
       "    </tr>\n",
       "    <tr>\n",
       "      <th>75%</th>\n",
       "      <td>2.000610e+05</td>\n",
       "      <td>2020.000000</td>\n",
       "      <td>NaN</td>\n",
       "      <td>NaN</td>\n",
       "      <td>NaN</td>\n",
       "      <td>NaN</td>\n",
       "      <td>NaN</td>\n",
       "      <td>NaN</td>\n",
       "      <td>NaN</td>\n",
       "      <td>NaN</td>\n",
       "      <td>NaN</td>\n",
       "      <td>NaN</td>\n",
       "      <td>NaN</td>\n",
       "      <td>NaN</td>\n",
       "    </tr>\n",
       "    <tr>\n",
       "      <th>max</th>\n",
       "      <td>2.000500e+09</td>\n",
       "      <td>2020.000000</td>\n",
       "      <td>NaN</td>\n",
       "      <td>NaN</td>\n",
       "      <td>NaN</td>\n",
       "      <td>NaN</td>\n",
       "      <td>NaN</td>\n",
       "      <td>NaN</td>\n",
       "      <td>NaN</td>\n",
       "      <td>NaN</td>\n",
       "      <td>NaN</td>\n",
       "      <td>NaN</td>\n",
       "      <td>NaN</td>\n",
       "      <td>NaN</td>\n",
       "    </tr>\n",
       "  </tbody>\n",
       "</table>\n",
       "</div>"
      ],
      "text/plain": [
       "        Serial Number      List Year Date Recorded      Town          Address  \\\n",
       "count    2.000130e+05  200013.000000        200011    200013           200009   \n",
       "unique            NaN            NaN          2413       169           177821   \n",
       "top               NaN            NaN      7/1/2002  Stamford  MULTI ADDRESSES   \n",
       "freq              NaN            NaN           779      7853              475   \n",
       "mean     1.112790e+06    2007.822467           NaN       NaN              NaN   \n",
       "std      1.272975e+07       8.656000           NaN       NaN              NaN   \n",
       "min      0.000000e+00    2001.000000           NaN       NaN              NaN   \n",
       "25%      1.096800e+04    2001.000000           NaN       NaN              NaN   \n",
       "50%      2.040100e+04    2002.000000           NaN       NaN              NaN   \n",
       "75%      2.000610e+05    2020.000000           NaN       NaN              NaN   \n",
       "max      2.000500e+09    2020.000000           NaN       NaN              NaN   \n",
       "\n",
       "       Assessed Value Sale Amount Sales Ratio Property Type Residential Type  \\\n",
       "count          200013      200011      200011         66296            60882   \n",
       "unique          41926       15702      114428             6                5   \n",
       "top                 0      150000           0   Residential    Single Family   \n",
       "freq             1537        1992        2252         60506            43267   \n",
       "mean              NaN         NaN         NaN           NaN              NaN   \n",
       "std               NaN         NaN         NaN           NaN              NaN   \n",
       "min               NaN         NaN         NaN           NaN              NaN   \n",
       "25%               NaN         NaN         NaN           NaN              NaN   \n",
       "50%               NaN         NaN         NaN           NaN              NaN   \n",
       "75%               NaN         NaN         NaN           NaN              NaN   \n",
       "max               NaN         NaN         NaN           NaN              NaN   \n",
       "\n",
       "       Non Use Code Assessor Remarks        OPM remarks Location  \n",
       "count         45783            14350               2895    57095  \n",
       "unique           91             7970               1668    48863  \n",
       "top               7      ESTATE SALE  GOOD SALE PER MLS        0  \n",
       "freq           9299              466                229       49  \n",
       "mean            NaN              NaN                NaN      NaN  \n",
       "std             NaN              NaN                NaN      NaN  \n",
       "min             NaN              NaN                NaN      NaN  \n",
       "25%             NaN              NaN                NaN      NaN  \n",
       "50%             NaN              NaN                NaN      NaN  \n",
       "75%             NaN              NaN                NaN      NaN  \n",
       "max             NaN              NaN                NaN      NaN  "
      ]
     },
     "execution_count": 6,
     "metadata": {},
     "output_type": "execute_result"
    }
   ],
   "source": [
    "df_proyecto.describe(include = 'all')"
   ]
  },
  {
   "cell_type": "markdown",
   "id": "5a26096f",
   "metadata": {},
   "source": [
    "<h4 Style = \"color: #008B8B\"> Manejo valores faltantes del set de datos del proyecto </h4>"
   ]
  },
  {
   "cell_type": "code",
   "execution_count": 7,
   "id": "0a04d169",
   "metadata": {},
   "outputs": [
    {
     "name": "stdout",
     "output_type": "stream",
     "text": [
      "<class 'pandas.core.frame.DataFrame'>\n",
      "RangeIndex: 200013 entries, 0 to 200012\n",
      "Data columns (total 14 columns):\n",
      " #   Column            Non-Null Count   Dtype \n",
      "---  ------            --------------   ----- \n",
      " 0   Serial Number     200013 non-null  int64 \n",
      " 1   List Year         200013 non-null  int64 \n",
      " 2   Date Recorded     200011 non-null  object\n",
      " 3   Town              200013 non-null  object\n",
      " 4   Address           200009 non-null  object\n",
      " 5   Assessed Value    200013 non-null  object\n",
      " 6   Sale Amount       200011 non-null  object\n",
      " 7   Sales Ratio       200011 non-null  object\n",
      " 8   Property Type     66296 non-null   object\n",
      " 9   Residential Type  60882 non-null   object\n",
      " 10  Non Use Code      45783 non-null   object\n",
      " 11  Assessor Remarks  14350 non-null   object\n",
      " 12  OPM remarks       2895 non-null    object\n",
      " 13  Location          57095 non-null   object\n",
      "dtypes: int64(2), object(12)\n",
      "memory usage: 21.4+ MB\n"
     ]
    }
   ],
   "source": [
    "df_proyecto.info()"
   ]
  },
  {
   "cell_type": "code",
   "execution_count": 8,
   "id": "8ad17040",
   "metadata": {},
   "outputs": [
    {
     "data": {
      "text/html": [
       "<div>\n",
       "<style scoped>\n",
       "    .dataframe tbody tr th:only-of-type {\n",
       "        vertical-align: middle;\n",
       "    }\n",
       "\n",
       "    .dataframe tbody tr th {\n",
       "        vertical-align: top;\n",
       "    }\n",
       "\n",
       "    .dataframe thead th {\n",
       "        text-align: right;\n",
       "    }\n",
       "</style>\n",
       "<table border=\"1\" class=\"dataframe\">\n",
       "  <thead>\n",
       "    <tr style=\"text-align: right;\">\n",
       "      <th></th>\n",
       "      <th>Serial Number</th>\n",
       "      <th>List Year</th>\n",
       "      <th>Date Recorded</th>\n",
       "      <th>Town</th>\n",
       "      <th>Address</th>\n",
       "      <th>Assessed Value</th>\n",
       "      <th>Sale Amount</th>\n",
       "      <th>Sales Ratio</th>\n",
       "      <th>Property Type</th>\n",
       "      <th>Residential Type</th>\n",
       "      <th>Non Use Code</th>\n",
       "      <th>Assessor Remarks</th>\n",
       "      <th>OPM remarks</th>\n",
       "      <th>Location</th>\n",
       "    </tr>\n",
       "  </thead>\n",
       "  <tbody>\n",
       "    <tr>\n",
       "      <th>0</th>\n",
       "      <td>False</td>\n",
       "      <td>False</td>\n",
       "      <td>False</td>\n",
       "      <td>False</td>\n",
       "      <td>False</td>\n",
       "      <td>False</td>\n",
       "      <td>False</td>\n",
       "      <td>False</td>\n",
       "      <td>False</td>\n",
       "      <td>True</td>\n",
       "      <td>True</td>\n",
       "      <td>True</td>\n",
       "      <td>True</td>\n",
       "      <td>True</td>\n",
       "    </tr>\n",
       "    <tr>\n",
       "      <th>1</th>\n",
       "      <td>False</td>\n",
       "      <td>False</td>\n",
       "      <td>False</td>\n",
       "      <td>False</td>\n",
       "      <td>False</td>\n",
       "      <td>False</td>\n",
       "      <td>False</td>\n",
       "      <td>False</td>\n",
       "      <td>False</td>\n",
       "      <td>False</td>\n",
       "      <td>True</td>\n",
       "      <td>True</td>\n",
       "      <td>True</td>\n",
       "      <td>True</td>\n",
       "    </tr>\n",
       "    <tr>\n",
       "      <th>2</th>\n",
       "      <td>False</td>\n",
       "      <td>False</td>\n",
       "      <td>False</td>\n",
       "      <td>False</td>\n",
       "      <td>False</td>\n",
       "      <td>False</td>\n",
       "      <td>False</td>\n",
       "      <td>False</td>\n",
       "      <td>False</td>\n",
       "      <td>False</td>\n",
       "      <td>True</td>\n",
       "      <td>True</td>\n",
       "      <td>True</td>\n",
       "      <td>True</td>\n",
       "    </tr>\n",
       "    <tr>\n",
       "      <th>3</th>\n",
       "      <td>False</td>\n",
       "      <td>False</td>\n",
       "      <td>False</td>\n",
       "      <td>False</td>\n",
       "      <td>False</td>\n",
       "      <td>False</td>\n",
       "      <td>False</td>\n",
       "      <td>False</td>\n",
       "      <td>False</td>\n",
       "      <td>False</td>\n",
       "      <td>True</td>\n",
       "      <td>True</td>\n",
       "      <td>True</td>\n",
       "      <td>True</td>\n",
       "    </tr>\n",
       "    <tr>\n",
       "      <th>4</th>\n",
       "      <td>False</td>\n",
       "      <td>False</td>\n",
       "      <td>False</td>\n",
       "      <td>False</td>\n",
       "      <td>False</td>\n",
       "      <td>False</td>\n",
       "      <td>False</td>\n",
       "      <td>False</td>\n",
       "      <td>False</td>\n",
       "      <td>False</td>\n",
       "      <td>True</td>\n",
       "      <td>True</td>\n",
       "      <td>True</td>\n",
       "      <td>True</td>\n",
       "    </tr>\n",
       "  </tbody>\n",
       "</table>\n",
       "</div>"
      ],
      "text/plain": [
       "   Serial Number  List Year  Date Recorded   Town  Address  Assessed Value  \\\n",
       "0          False      False          False  False    False           False   \n",
       "1          False      False          False  False    False           False   \n",
       "2          False      False          False  False    False           False   \n",
       "3          False      False          False  False    False           False   \n",
       "4          False      False          False  False    False           False   \n",
       "\n",
       "   Sale Amount  Sales Ratio  Property Type  Residential Type  Non Use Code  \\\n",
       "0        False        False          False              True          True   \n",
       "1        False        False          False             False          True   \n",
       "2        False        False          False             False          True   \n",
       "3        False        False          False             False          True   \n",
       "4        False        False          False             False          True   \n",
       "\n",
       "   Assessor Remarks  OPM remarks  Location  \n",
       "0              True         True      True  \n",
       "1              True         True      True  \n",
       "2              True         True      True  \n",
       "3              True         True      True  \n",
       "4              True         True      True  "
      ]
     },
     "execution_count": 8,
     "metadata": {},
     "output_type": "execute_result"
    }
   ],
   "source": [
    "dfTemp = df_proyecto.isnull()\n",
    "dfTemp.head(5)"
   ]
  },
  {
   "cell_type": "code",
   "execution_count": 9,
   "id": "a8546ae1",
   "metadata": {},
   "outputs": [
    {
     "name": "stdout",
     "output_type": "stream",
     "text": [
      "Serial Number\n",
      "False    200013\n",
      "Name: Serial Number, dtype: int64\n",
      "\n",
      "List Year\n",
      "False    200013\n",
      "Name: List Year, dtype: int64\n",
      "\n",
      "Date Recorded\n",
      "False    200011\n",
      "True          2\n",
      "Name: Date Recorded, dtype: int64\n",
      "\n",
      "Town\n",
      "False    200013\n",
      "Name: Town, dtype: int64\n",
      "\n",
      "Address\n",
      "False    200009\n",
      "True          4\n",
      "Name: Address, dtype: int64\n",
      "\n",
      "Assessed Value\n",
      "False    200013\n",
      "Name: Assessed Value, dtype: int64\n",
      "\n",
      "Sale Amount\n",
      "False    200011\n",
      "True          2\n",
      "Name: Sale Amount, dtype: int64\n",
      "\n",
      "Sales Ratio\n",
      "False    200011\n",
      "True          2\n",
      "Name: Sales Ratio, dtype: int64\n",
      "\n",
      "Property Type\n",
      "True     133717\n",
      "False     66296\n",
      "Name: Property Type, dtype: int64\n",
      "\n",
      "Residential Type\n",
      "True     139131\n",
      "False     60882\n",
      "Name: Residential Type, dtype: int64\n",
      "\n",
      "Non Use Code\n",
      "True     154230\n",
      "False     45783\n",
      "Name: Non Use Code, dtype: int64\n",
      "\n",
      "Assessor Remarks\n",
      "True     185663\n",
      "False     14350\n",
      "Name: Assessor Remarks, dtype: int64\n",
      "\n",
      "OPM remarks\n",
      "True     197118\n",
      "False      2895\n",
      "Name: OPM remarks, dtype: int64\n",
      "\n",
      "Location\n",
      "True     142918\n",
      "False     57095\n",
      "Name: Location, dtype: int64\n",
      "\n"
     ]
    }
   ],
   "source": [
    "dfTemp = df_proyecto.isnull()\n",
    "for col in dfTemp.columns.values.tolist():\n",
    "    print(col)\n",
    "    print(dfTemp[col].value_counts())\n",
    "    print(\"\")"
   ]
  },
  {
   "cell_type": "code",
   "execution_count": 10,
   "id": "d115be3b",
   "metadata": {},
   "outputs": [],
   "source": [
    "# Basado en la necesidad del negocio, se procede a eliminar las variables que no son pertienentes y que además algunas tienen pocos o muy pocos registros.\n",
    "# En el caso de la variable Sales Ratio, esta se decide eliminar debido a que se identificaron muchas incosistencias en los\n",
    "# datos de esta variable. \n",
    "df_proyecto.drop(['Non Use Code', 'Assessor Remarks', 'OPM remarks','Location', 'Sales Ratio'], axis=1, inplace=True)"
   ]
  },
  {
   "cell_type": "code",
   "execution_count": 11,
   "id": "3d6aa156",
   "metadata": {},
   "outputs": [
    {
     "data": {
      "text/html": [
       "<div>\n",
       "<style scoped>\n",
       "    .dataframe tbody tr th:only-of-type {\n",
       "        vertical-align: middle;\n",
       "    }\n",
       "\n",
       "    .dataframe tbody tr th {\n",
       "        vertical-align: top;\n",
       "    }\n",
       "\n",
       "    .dataframe thead th {\n",
       "        text-align: right;\n",
       "    }\n",
       "</style>\n",
       "<table border=\"1\" class=\"dataframe\">\n",
       "  <thead>\n",
       "    <tr style=\"text-align: right;\">\n",
       "      <th></th>\n",
       "      <th>Serial Number</th>\n",
       "      <th>List Year</th>\n",
       "      <th>Date Recorded</th>\n",
       "      <th>Town</th>\n",
       "      <th>Address</th>\n",
       "      <th>Assessed Value</th>\n",
       "      <th>Sale Amount</th>\n",
       "      <th>Property Type</th>\n",
       "      <th>Residential Type</th>\n",
       "    </tr>\n",
       "  </thead>\n",
       "  <tbody>\n",
       "    <tr>\n",
       "      <th>0</th>\n",
       "      <td>2020348</td>\n",
       "      <td>2020</td>\n",
       "      <td>9/13/2021</td>\n",
       "      <td>Ansonia</td>\n",
       "      <td>230 WAKELEE AVE</td>\n",
       "      <td>150500</td>\n",
       "      <td>325000</td>\n",
       "      <td>Commercial</td>\n",
       "      <td>NaN</td>\n",
       "    </tr>\n",
       "    <tr>\n",
       "      <th>1</th>\n",
       "      <td>20002</td>\n",
       "      <td>2020</td>\n",
       "      <td>10/2/2020</td>\n",
       "      <td>Ashford</td>\n",
       "      <td>390 TURNPIKE RD</td>\n",
       "      <td>253000</td>\n",
       "      <td>430000</td>\n",
       "      <td>Residential</td>\n",
       "      <td>Single Family</td>\n",
       "    </tr>\n",
       "    <tr>\n",
       "      <th>2</th>\n",
       "      <td>200212</td>\n",
       "      <td>2020</td>\n",
       "      <td>3/9/2021</td>\n",
       "      <td>Avon</td>\n",
       "      <td>5 CHESTNUT DRIVE</td>\n",
       "      <td>130400</td>\n",
       "      <td>179900</td>\n",
       "      <td>Residential</td>\n",
       "      <td>Condo</td>\n",
       "    </tr>\n",
       "    <tr>\n",
       "      <th>3</th>\n",
       "      <td>200243</td>\n",
       "      <td>2020</td>\n",
       "      <td>4/13/2021</td>\n",
       "      <td>Avon</td>\n",
       "      <td>111 NORTHINGTON DRIVE</td>\n",
       "      <td>619290</td>\n",
       "      <td>890000</td>\n",
       "      <td>Residential</td>\n",
       "      <td>Single Family</td>\n",
       "    </tr>\n",
       "    <tr>\n",
       "      <th>4</th>\n",
       "      <td>200377</td>\n",
       "      <td>2020</td>\n",
       "      <td>7/2/2021</td>\n",
       "      <td>Avon</td>\n",
       "      <td>70 FAR HILLS DRIVE</td>\n",
       "      <td>862330</td>\n",
       "      <td>1447500</td>\n",
       "      <td>Residential</td>\n",
       "      <td>Single Family</td>\n",
       "    </tr>\n",
       "    <tr>\n",
       "      <th>5</th>\n",
       "      <td>200109</td>\n",
       "      <td>2020</td>\n",
       "      <td>12/9/2020</td>\n",
       "      <td>Avon</td>\n",
       "      <td>57 FAR HILLS DRIVE</td>\n",
       "      <td>847520</td>\n",
       "      <td>1250000</td>\n",
       "      <td>Residential</td>\n",
       "      <td>Single Family</td>\n",
       "    </tr>\n",
       "    <tr>\n",
       "      <th>6</th>\n",
       "      <td>2020180</td>\n",
       "      <td>2020</td>\n",
       "      <td>3/1/2021</td>\n",
       "      <td>Berlin</td>\n",
       "      <td>1539 FARMINGTON AVE</td>\n",
       "      <td>234200</td>\n",
       "      <td>130000</td>\n",
       "      <td>Residential</td>\n",
       "      <td>Two Family</td>\n",
       "    </tr>\n",
       "    <tr>\n",
       "      <th>7</th>\n",
       "      <td>2020313</td>\n",
       "      <td>2020</td>\n",
       "      <td>7/1/2021</td>\n",
       "      <td>Berlin</td>\n",
       "      <td>216 WATCH HILL RD</td>\n",
       "      <td>412000</td>\n",
       "      <td>677500</td>\n",
       "      <td>Residential</td>\n",
       "      <td>Single Family</td>\n",
       "    </tr>\n",
       "    <tr>\n",
       "      <th>8</th>\n",
       "      <td>200097</td>\n",
       "      <td>2020</td>\n",
       "      <td>6/4/2021</td>\n",
       "      <td>Bethany</td>\n",
       "      <td>23 AMITY RD</td>\n",
       "      <td>511000</td>\n",
       "      <td>795000</td>\n",
       "      <td>Commercial</td>\n",
       "      <td>NaN</td>\n",
       "    </tr>\n",
       "    <tr>\n",
       "      <th>9</th>\n",
       "      <td>20139</td>\n",
       "      <td>2020</td>\n",
       "      <td>12/16/2020</td>\n",
       "      <td>Bethel</td>\n",
       "      <td>16 DEEPWOOD DRIVE</td>\n",
       "      <td>171360</td>\n",
       "      <td>335000</td>\n",
       "      <td>Residential</td>\n",
       "      <td>Single Family</td>\n",
       "    </tr>\n",
       "  </tbody>\n",
       "</table>\n",
       "</div>"
      ],
      "text/plain": [
       "   Serial Number  List Year Date Recorded     Town                Address  \\\n",
       "0        2020348       2020     9/13/2021  Ansonia        230 WAKELEE AVE   \n",
       "1          20002       2020     10/2/2020  Ashford        390 TURNPIKE RD   \n",
       "2         200212       2020      3/9/2021     Avon       5 CHESTNUT DRIVE   \n",
       "3         200243       2020     4/13/2021     Avon  111 NORTHINGTON DRIVE   \n",
       "4         200377       2020      7/2/2021     Avon     70 FAR HILLS DRIVE   \n",
       "5         200109       2020     12/9/2020     Avon     57 FAR HILLS DRIVE   \n",
       "6        2020180       2020      3/1/2021   Berlin    1539 FARMINGTON AVE   \n",
       "7        2020313       2020      7/1/2021   Berlin      216 WATCH HILL RD   \n",
       "8         200097       2020      6/4/2021  Bethany            23 AMITY RD   \n",
       "9          20139       2020    12/16/2020   Bethel      16 DEEPWOOD DRIVE   \n",
       "\n",
       "  Assessed Value Sale Amount Property Type Residential Type  \n",
       "0         150500      325000    Commercial              NaN  \n",
       "1         253000      430000   Residential    Single Family  \n",
       "2         130400      179900   Residential            Condo  \n",
       "3         619290      890000   Residential    Single Family  \n",
       "4         862330     1447500   Residential    Single Family  \n",
       "5         847520     1250000   Residential    Single Family  \n",
       "6         234200      130000   Residential       Two Family  \n",
       "7         412000      677500   Residential    Single Family  \n",
       "8         511000      795000    Commercial              NaN  \n",
       "9         171360      335000   Residential    Single Family  "
      ]
     },
     "execution_count": 11,
     "metadata": {},
     "output_type": "execute_result"
    }
   ],
   "source": [
    "df_proyecto.head(10)"
   ]
  },
  {
   "cell_type": "code",
   "execution_count": 12,
   "id": "4dc4f643",
   "metadata": {},
   "outputs": [],
   "source": [
    "# Se eliminan valores faltantes vinculadas a la variable \"serial number\"\n",
    "\n",
    "df_proyecto.dropna(subset = [\"Serial Number\", \"Date Recorded\", \"Address\"], axis=0, inplace=True)\n",
    "#ajuste de indice\n",
    "df_proyecto.reset_index(drop=True, inplace=True)"
   ]
  },
  {
   "cell_type": "code",
   "execution_count": 13,
   "id": "039693f5",
   "metadata": {
    "scrolled": true
   },
   "outputs": [
    {
     "name": "stdout",
     "output_type": "stream",
     "text": [
      "Serial Number\n",
      "False    200009\n",
      "Name: Serial Number, dtype: int64\n",
      "\n",
      "List Year\n",
      "False    200009\n",
      "Name: List Year, dtype: int64\n",
      "\n",
      "Date Recorded\n",
      "False    200009\n",
      "Name: Date Recorded, dtype: int64\n",
      "\n",
      "Town\n",
      "False    200009\n",
      "Name: Town, dtype: int64\n",
      "\n",
      "Address\n",
      "False    200009\n",
      "Name: Address, dtype: int64\n",
      "\n",
      "Assessed Value\n",
      "False    200009\n",
      "Name: Assessed Value, dtype: int64\n",
      "\n",
      "Sale Amount\n",
      "False    200007\n",
      "True          2\n",
      "Name: Sale Amount, dtype: int64\n",
      "\n",
      "Property Type\n",
      "True     133713\n",
      "False     66296\n",
      "Name: Property Type, dtype: int64\n",
      "\n",
      "Residential Type\n",
      "True     139127\n",
      "False     60882\n",
      "Name: Residential Type, dtype: int64\n",
      "\n"
     ]
    }
   ],
   "source": [
    "dfTemp = df_proyecto.isnull()\n",
    "for col in dfTemp.columns.values.tolist():\n",
    "    print(col)\n",
    "    print(dfTemp[col].value_counts())\n",
    "    print(\"\")"
   ]
  },
  {
   "cell_type": "code",
   "execution_count": 14,
   "id": "e99249cb",
   "metadata": {},
   "outputs": [
    {
     "data": {
      "text/plain": [
       "'150000'"
      ]
     },
     "execution_count": 14,
     "metadata": {},
     "output_type": "execute_result"
    }
   ],
   "source": [
    "# Se procede a realizar la imputacion de valores faltantes por variable.\n",
    "# Imputacion de Sale Amount\n",
    "\n",
    "df_proyecto['Sale Amount'].value_counts().idxmax()"
   ]
  },
  {
   "cell_type": "code",
   "execution_count": 15,
   "id": "d7257a26",
   "metadata": {},
   "outputs": [],
   "source": [
    "df_proyecto['Sale Amount'].replace(np.nan, '150000.00', inplace=True)"
   ]
  },
  {
   "cell_type": "code",
   "execution_count": 16,
   "id": "39b36f26",
   "metadata": {},
   "outputs": [],
   "source": [
    "# Se analizo imputar las varialbles de Property Type y Residential Type, sin embargo, al tener que el porcentaje\n",
    "# de sustitucion supera el 65% en ambas variables, es un sesgo demasiado grande como para poder imputar."
   ]
  },
  {
   "cell_type": "code",
   "execution_count": 17,
   "id": "5a2db796",
   "metadata": {},
   "outputs": [
    {
     "name": "stdout",
     "output_type": "stream",
     "text": [
      "Serial Number\n",
      "False    200009\n",
      "Name: Serial Number, dtype: int64\n",
      "\n",
      "List Year\n",
      "False    200009\n",
      "Name: List Year, dtype: int64\n",
      "\n",
      "Date Recorded\n",
      "False    200009\n",
      "Name: Date Recorded, dtype: int64\n",
      "\n",
      "Town\n",
      "False    200009\n",
      "Name: Town, dtype: int64\n",
      "\n",
      "Address\n",
      "False    200009\n",
      "Name: Address, dtype: int64\n",
      "\n",
      "Assessed Value\n",
      "False    200009\n",
      "Name: Assessed Value, dtype: int64\n",
      "\n",
      "Sale Amount\n",
      "False    200009\n",
      "Name: Sale Amount, dtype: int64\n",
      "\n",
      "Property Type\n",
      "True     133713\n",
      "False     66296\n",
      "Name: Property Type, dtype: int64\n",
      "\n",
      "Residential Type\n",
      "True     139127\n",
      "False     60882\n",
      "Name: Residential Type, dtype: int64\n",
      "\n"
     ]
    }
   ],
   "source": [
    "dfTemp = df_proyecto.isnull()\n",
    "for col in dfTemp.columns.values.tolist():\n",
    "    print(col)\n",
    "    print(dfTemp[col].value_counts())\n",
    "    print(\"\")"
   ]
  },
  {
   "cell_type": "markdown",
   "id": "abc9b3c7",
   "metadata": {},
   "source": [
    "<h4 Style = \"color: #BDB76B\"> Ajuste de encabezados a buenas practicas </h4>"
   ]
  },
  {
   "cell_type": "code",
   "execution_count": 18,
   "id": "811f4923",
   "metadata": {},
   "outputs": [],
   "source": [
    "# Cambio del nombre de columnas del primer dataset para ajustarlas a buenas practicas\n",
    "df_proyecto.rename({'Serial Number':'serialNumber'}, axis=1, inplace=True)\n",
    "df_proyecto.rename({'List Year':'listYear'}, axis=1, inplace=True)\n",
    "df_proyecto.rename({'Date Recorded':'dateRecorded'}, axis=1, inplace=True)\n",
    "df_proyecto.rename({'Town':'town'}, axis=1, inplace=True)\n",
    "df_proyecto.rename({'Address':'address'}, axis=1, inplace=True)\n",
    "df_proyecto.rename({'Assessed Value':'assessedValue'}, axis=1, inplace=True)\n",
    "df_proyecto.rename({'Sale Amount':'saleAmount'}, axis=1, inplace=True)\n",
    "df_proyecto.rename({'Sales Ratio':'salesRatio'}, axis=1, inplace=True)\n",
    "df_proyecto.rename({'Property Type':'propertyType'}, axis=1, inplace=True)\n",
    "df_proyecto.rename({'Residential Type':'residentialType'}, axis=1, inplace=True)"
   ]
  },
  {
   "cell_type": "code",
   "execution_count": 19,
   "id": "2ce3d67b",
   "metadata": {},
   "outputs": [
    {
     "data": {
      "text/plain": [
       "Index(['serialNumber', 'listYear', 'dateRecorded', 'town', 'address',\n",
       "       'assessedValue', 'saleAmount', 'propertyType', 'residentialType'],\n",
       "      dtype='object')"
      ]
     },
     "execution_count": 19,
     "metadata": {},
     "output_type": "execute_result"
    }
   ],
   "source": [
    "#comprobacion del cambio de nombres.\n",
    "df_proyecto.columns\n"
   ]
  },
  {
   "cell_type": "markdown",
   "id": "cd964f5d",
   "metadata": {},
   "source": [
    "<h4 Style = \"color: #4B0082\"> Estandarizacion de los datos </h4>"
   ]
  },
  {
   "cell_type": "code",
   "execution_count": 20,
   "id": "331b69e9",
   "metadata": {},
   "outputs": [
    {
     "data": {
      "text/plain": [
       "serialNumber        int64\n",
       "listYear            int64\n",
       "dateRecorded       object\n",
       "town               object\n",
       "address            object\n",
       "assessedValue      object\n",
       "saleAmount         object\n",
       "propertyType       object\n",
       "residentialType    object\n",
       "dtype: object"
      ]
     },
     "execution_count": 20,
     "metadata": {},
     "output_type": "execute_result"
    }
   ],
   "source": [
    "#Se identifica el tipo de variables.\n",
    "\n",
    "df_proyecto.dtypes"
   ]
  },
  {
   "cell_type": "code",
   "execution_count": 21,
   "id": "f879e672",
   "metadata": {},
   "outputs": [],
   "source": [
    "#Variables que deberian ser numericas de acuerdo al dataset en Kaggle: Assessed Value, Sale Amount.\n",
    "# Date recorded es una variable tipo fecha. "
   ]
  },
  {
   "cell_type": "code",
   "execution_count": 22,
   "id": "b4702cf1",
   "metadata": {},
   "outputs": [],
   "source": [
    "# Se cambia el tipo de variable (a la que realmente corresponde) de acuerdo con la metadata del dataset. \n",
    "# Cambio de variables a tipo int. \n"
   ]
  },
  {
   "cell_type": "code",
   "execution_count": 23,
   "id": "07dc21f6",
   "metadata": {},
   "outputs": [
    {
     "data": {
      "text/plain": [
       "serialNumber        int32\n",
       "listYear            int32\n",
       "dateRecorded       object\n",
       "town               object\n",
       "address            object\n",
       "assessedValue      object\n",
       "saleAmount         object\n",
       "propertyType       object\n",
       "residentialType    object\n",
       "dtype: object"
      ]
     },
     "execution_count": 23,
     "metadata": {},
     "output_type": "execute_result"
    }
   ],
   "source": [
    "df_proyecto[[\"serialNumber\", \"listYear\"]] = df_proyecto [[\"serialNumber\", \"listYear\"]].astype(\"int\")\n",
    "df_proyecto.dtypes"
   ]
  },
  {
   "cell_type": "code",
   "execution_count": 24,
   "id": "701bf41b",
   "metadata": {},
   "outputs": [
    {
     "data": {
      "text/plain": [
       "serialNumber        int32\n",
       "listYear            int32\n",
       "dateRecorded       object\n",
       "town               object\n",
       "address            object\n",
       "assessedValue      object\n",
       "saleAmount         object\n",
       "propertyType       object\n",
       "residentialType    object\n",
       "dtype: object"
      ]
     },
     "execution_count": 24,
     "metadata": {},
     "output_type": "execute_result"
    }
   ],
   "source": [
    "df_proyecto.dtypes"
   ]
  },
  {
   "cell_type": "code",
   "execution_count": 25,
   "id": "6de51ade",
   "metadata": {},
   "outputs": [],
   "source": [
    "df_proyecto[\"assessedValue\"] = pd.to_numeric(df_proyecto[\"assessedValue\"], errors='coerce')\n",
    "\n",
    "df_proyecto[\"saleAmount\"] = pd.to_numeric(df_proyecto[\"saleAmount\"], errors='coerce')"
   ]
  },
  {
   "cell_type": "code",
   "execution_count": 26,
   "id": "7960b96a",
   "metadata": {},
   "outputs": [
    {
     "name": "stdout",
     "output_type": "stream",
     "text": [
      "serialNumber            0\n",
      "listYear                0\n",
      "dateRecorded            0\n",
      "town                    0\n",
      "address                 0\n",
      "assessedValue          93\n",
      "saleAmount             28\n",
      "propertyType       133713\n",
      "residentialType    139127\n",
      "dtype: int64\n"
     ]
    }
   ],
   "source": [
    "count_nan = df_proyecto.isna().sum()\n",
    "print(count_nan)"
   ]
  },
  {
   "cell_type": "code",
   "execution_count": 27,
   "id": "e58a5a74",
   "metadata": {},
   "outputs": [],
   "source": [
    "# Imputación simple de valores en las variables de assessedValue y saleAmount.\n",
    "\n",
    "promAV= df_proyecto[\"assessedValue\"].astype(\"float\").mean(axis=0)\n",
    "df_proyecto[\"assessedValue\"].replace(np.nan, promAV, inplace=True)\n",
    "\n",
    "promSA= df_proyecto[\"saleAmount\"].astype(\"float\").mean(axis=0)\n",
    "df_proyecto[\"saleAmount\"].replace(np.nan, promSA, inplace=True)"
   ]
  },
  {
   "cell_type": "code",
   "execution_count": 28,
   "id": "cc4aaa08",
   "metadata": {},
   "outputs": [
    {
     "name": "stdout",
     "output_type": "stream",
     "text": [
      "serialNumber            0\n",
      "listYear                0\n",
      "dateRecorded            0\n",
      "town                    0\n",
      "address                 0\n",
      "assessedValue           0\n",
      "saleAmount              0\n",
      "propertyType       133713\n",
      "residentialType    139127\n",
      "dtype: int64\n"
     ]
    }
   ],
   "source": [
    "count_nan = df_proyecto.isna().sum()\n",
    "print(count_nan)"
   ]
  },
  {
   "cell_type": "code",
   "execution_count": 29,
   "id": "5fe9ee32",
   "metadata": {},
   "outputs": [
    {
     "data": {
      "text/plain": [
       "serialNumber         int32\n",
       "listYear             int32\n",
       "dateRecorded        object\n",
       "town                object\n",
       "address             object\n",
       "assessedValue      float64\n",
       "saleAmount         float64\n",
       "propertyType        object\n",
       "residentialType     object\n",
       "dtype: object"
      ]
     },
     "execution_count": 29,
     "metadata": {},
     "output_type": "execute_result"
    }
   ],
   "source": [
    "df_proyecto.dtypes"
   ]
  },
  {
   "cell_type": "code",
   "execution_count": 30,
   "id": "85344f62",
   "metadata": {},
   "outputs": [
    {
     "data": {
      "text/plain": [
       "(200009, 9)"
      ]
     },
     "execution_count": 30,
     "metadata": {},
     "output_type": "execute_result"
    }
   ],
   "source": [
    "df_proyecto.shape"
   ]
  },
  {
   "cell_type": "markdown",
   "id": "d1ee7137",
   "metadata": {},
   "source": [
    "<h4 Style = \"color: #028f76\"> Visualización de Datos </h4>"
   ]
  },
  {
   "cell_type": "markdown",
   "id": "40a1a65a",
   "metadata": {},
   "source": [
    "<p Style = \"text-align: justify\"> En este apartado se retoman las preguntas de investigación y se procede a responderlas y analizarlas a través de distintas formas de visualización de datos utilizando el dataset que se trabajó y limpió en los apartados anteriores. </p>\n",
    "\n",
    "</br>"
   ]
  },
  {
   "cell_type": "markdown",
   "id": "604e7ffc",
   "metadata": {},
   "source": [
    "<ul>\n",
    "<li>¿Cuál es el ingreso anual de las propiedades vendidas?</li>\n",
    "</ul>"
   ]
  },
  {
   "cell_type": "code",
   "execution_count": 31,
   "id": "dbd65435",
   "metadata": {},
   "outputs": [
    {
     "name": "stdout",
     "output_type": "stream",
     "text": [
      "listYear\n",
      "2001    $14,671,503,335\n",
      "2002    $17,100,395,037\n",
      "2003     $5,583,694,049\n",
      "2004           $381,000\n",
      "2005        $22,689,557\n",
      "2006        $63,705,175\n",
      "2007        $33,079,436\n",
      "2008        $23,102,639\n",
      "2009        $29,598,027\n",
      "2010        $45,022,620\n",
      "2011        $30,636,950\n",
      "2012        $39,620,367\n",
      "2013        $68,258,094\n",
      "2014        $75,739,322\n",
      "2015        $39,072,266\n",
      "2016        $30,966,100\n",
      "2017        $67,593,586\n",
      "2018       $100,189,550\n",
      "2019       $122,664,126\n",
      "2020    $40,029,476,302\n",
      "Name: saleAmount, dtype: object\n"
     ]
    }
   ],
   "source": [
    "dfTemp = df_proyecto.groupby('listYear')['saleAmount'].sum()\n",
    "\n",
    "# Formato del output de los datos.\n",
    "pd.options.display.float_format = '${:,.0f}'.format\n",
    "\n",
    "# Mostrar los datos\n",
    "formatted_dfTemp = dfTemp.map(lambda x: '${:,.0f}'.format(x))\n",
    "print(formatted_dfTemp)\n"
   ]
  },
  {
   "cell_type": "code",
   "execution_count": 32,
   "id": "aebca76c",
   "metadata": {},
   "outputs": [
    {
     "data": {
      "image/png": "[encoded data removed]",
      "text/plain": [
       "<Figure size 1000x600 with 1 Axes>"
      ]
     },
     "metadata": {},
     "output_type": "display_data"
    }
   ],
   "source": [
    "# Formato a número reales\n",
    "pd.options.display.float_format = '{:.2f}'.format\n",
    "\n",
    "# Gráfico lineal\n",
    "plt.figure(figsize=(10, 6))\n",
    "plt.plot(dfTemp.index, dfTemp.values, marker='o', linestyle='-', color='b')\n",
    "plt.suptitle('Gráfico 1: Total de Ventas por Año en Connecticut desde el año 2001 al 2020', fontsize=14, fontweight='bold')\n",
    "plt.title('Resultado de Ventas para todos los años')\n",
    "plt.xlabel('Año')\n",
    "plt.ylabel('Monto Total de Venta')\n",
    "\n",
    "# Fijar eje x\n",
    "plt.xticks(dfTemp.index, rotation=45)\n",
    "\n",
    "# Definir el formateador personalizado para el eje y\n",
    "def currency_formatter(x, pos):\n",
    "    return '${:,.2f}'.format(x)\n",
    "\n",
    "# Asignar el formateador al eje y\n",
    "formatter = FuncFormatter(currency_formatter)\n",
    "plt.gca().yaxis.set_major_formatter(formatter)\n",
    "\n",
    "plt.tight_layout()\n",
    "\n",
    "# Mostrar el Gráfico\n",
    "plt.show()\n",
    "\n"
   ]
  },
  {
   "cell_type": "markdown",
   "id": "c1eb2551",
   "metadata": {},
   "source": [
    "<p Style = \"text-align: justify\"> Como se puede observar en esta gráfica, al tener algunos datos tan desproporcionales respecto a los demás, da la impresión que durante el periodo 2004 al 2019, no hubieron ventas, sin embargo, esto no es así, tal como se muestra en el gráfico a continuación. Lo que se puede concluir de este gráfico y de los datos mostrados en el chunk de código anterior, es que los años con el mayor monto de venta fueron el 2001, 2002, 2003 y 2020. Mientras que el menor fue el 2004.\n",
    "</p>\n",
    "</br>"
   ]
  },
  {
   "cell_type": "code",
   "execution_count": 33,
   "id": "c88a125b",
   "metadata": {},
   "outputs": [
    {
     "data": {
      "image/png": "[encoded data removed]",
      "text/plain": [
       "<Figure size 1000x600 with 1 Axes>"
      ]
     },
     "metadata": {},
     "output_type": "display_data"
    }
   ],
   "source": [
    "# Gráfico que excluye el valor mínimo y 4 valores más grandes.\n",
    "exclude_values = dfTemp.nlargest(4).index.tolist() + [dfTemp.idxmin()]\n",
    "filtered_df = dfTemp[~dfTemp.index.isin(exclude_values)]\n",
    "\n",
    "# Formato a número reales\n",
    "pd.options.display.float_format = '{:.2f}'.format\n",
    "\n",
    "# Gráfico lineal\n",
    "plt.figure(figsize=(10, 6))\n",
    "plt.plot(filtered_df.index, filtered_df.values, marker='o', linestyle='-', color='b')\n",
    "plt.suptitle('Gráfico 2: Total de Ventas por Año en Connecticut desde el año 2001 al 2020', fontsize=14, fontweight='bold')\n",
    "plt.title('Monto Total de Venta por Año (excluyendo los 4 valores más altos y el valor mínimo)')\n",
    "plt.xlabel('Año')\n",
    "plt.ylabel('Monto Total de Venta')\n",
    "\n",
    "# Fijar eje x\n",
    "plt.xticks(filtered_df.index, rotation=45)\n",
    "\n",
    "# Definir el formateador personalizado para el eje y\n",
    "def currency_formatter(x, pos):\n",
    "    return '${:,.2f}'.format(x)\n",
    "\n",
    "# Asignar el formateador al eje y\n",
    "formatter = FuncFormatter(currency_formatter)\n",
    "plt.gca().yaxis.set_major_formatter(formatter)\n",
    "\n",
    "plt.ylim(ymin=0)\n",
    "\n",
    "plt.tight_layout()\n",
    "\n",
    "# Mostrar el gráfico\n",
    "plt.show()\n"
   ]
  },
  {
   "cell_type": "markdown",
   "id": "e7c92275",
   "metadata": {},
   "source": [
    "<p Style = \"text-align: justify\">Como se indicó anteriormente, este gráfico nos muestra el comportamiento de los datos que se encuentran en rangos máscercanos. También podríamos decir que tienen una distribución más estable en el tiempo. Para esto fue necesario remover los4 montos de venta anuales más altos y el monto de venta anual más bajo (ya que es muy bajo en comparación con los demás).\n",
    "</p>\n",
    "</br>"
   ]
  },
  {
   "cell_type": "markdown",
   "id": "0d95fc1e",
   "metadata": {},
   "source": [
    "<ul>\n",
    "    <li>¿Qué tipo de propiedad tiene mayor facilidad de venta?</li>\n",
    "</ul>"
   ]
  },
  {
   "cell_type": "code",
   "execution_count": 34,
   "id": "bc289ae1",
   "metadata": {},
   "outputs": [
    {
     "data": {
      "text/html": [
       "<div>\n",
       "<style scoped>\n",
       "    .dataframe tbody tr th:only-of-type {\n",
       "        vertical-align: middle;\n",
       "    }\n",
       "\n",
       "    .dataframe tbody tr th {\n",
       "        vertical-align: top;\n",
       "    }\n",
       "\n",
       "    .dataframe thead th {\n",
       "        text-align: right;\n",
       "    }\n",
       "</style>\n",
       "<table border=\"1\" class=\"dataframe\">\n",
       "  <thead>\n",
       "    <tr style=\"text-align: right;\">\n",
       "      <th></th>\n",
       "      <th>serialNumber</th>\n",
       "    </tr>\n",
       "    <tr>\n",
       "      <th>propertyType</th>\n",
       "      <th></th>\n",
       "    </tr>\n",
       "  </thead>\n",
       "  <tbody>\n",
       "    <tr>\n",
       "      <th>Residential</th>\n",
       "      <td>60506</td>\n",
       "    </tr>\n",
       "    <tr>\n",
       "      <th>Vacant Land</th>\n",
       "      <td>3131</td>\n",
       "    </tr>\n",
       "    <tr>\n",
       "      <th>Commercial</th>\n",
       "      <td>1951</td>\n",
       "    </tr>\n",
       "    <tr>\n",
       "      <th>Apartments</th>\n",
       "      <td>478</td>\n",
       "    </tr>\n",
       "    <tr>\n",
       "      <th>Industrial</th>\n",
       "      <td>225</td>\n",
       "    </tr>\n",
       "    <tr>\n",
       "      <th>Public Utility</th>\n",
       "      <td>5</td>\n",
       "    </tr>\n",
       "  </tbody>\n",
       "</table>\n",
       "</div>"
      ],
      "text/plain": [
       "                serialNumber\n",
       "propertyType                \n",
       "Residential            60506\n",
       "Vacant Land             3131\n",
       "Commercial              1951\n",
       "Apartments               478\n",
       "Industrial               225\n",
       "Public Utility             5"
      ]
     },
     "execution_count": 34,
     "metadata": {},
     "output_type": "execute_result"
    }
   ],
   "source": [
    "gf = df_proyecto.groupby(['propertyType']).count()\n",
    "gf = gf.iloc[:,:1]\n",
    "gf = gf.sort_values('serialNumber', ascending=False)\n",
    "gf"
   ]
  },
  {
   "cell_type": "markdown",
   "id": "67cb3d87",
   "metadata": {},
   "source": [
    "<p Style = \"text-align: justify\"> Como se puede observar la propiedad que tiene mayor facilidad de venta es Residencial. Sin embargo se debe tomar en cuenta que para esta variable se tiene una limitación, ya que cuenta con un porcentaje de sesgo importante, siendo que los datos disponibles representan aproximadamente solo el 33% si se compara con el total de observaciones de otras variables. Por lo que se debe tomar en cuenta. Para esta variable considero que sería importante buscar más observaciones para poder mejorar la calidad y precisión del análisis.\n",
    "</p>"
   ]
  },
  {
   "cell_type": "markdown",
   "id": "0c7490a4",
   "metadata": {},
   "source": [
    "<p Style = \"text-align: justify\"> Adicionalmente, para esta pregunta, debido a que son pocos tipos de propiedades,el grafico no representa una facilidad en la interpretacion de los datos, por lo que el cuadro se considera la forma mas sencilla y optima para visualizar esta informacion.\n",
    "</p>\n",
    "</br>"
   ]
  },
  {
   "cell_type": "markdown",
   "id": "e3ee48de",
   "metadata": {},
   "source": [
    "<ul>\n",
    "    <li>¿En cuál ciudad o pueblo se dan mayor cantidad de ventas de propiedades? ¿Qué elementos particulares tienen esas ciudades o pueblos?</li>\n",
    "</ul>"
   ]
  },
  {
   "cell_type": "code",
   "execution_count": 35,
   "id": "ebec3c9f",
   "metadata": {},
   "outputs": [
    {
     "data": {
      "text/html": [
       "<div>\n",
       "<style scoped>\n",
       "    .dataframe tbody tr th:only-of-type {\n",
       "        vertical-align: middle;\n",
       "    }\n",
       "\n",
       "    .dataframe tbody tr th {\n",
       "        vertical-align: top;\n",
       "    }\n",
       "\n",
       "    .dataframe thead th {\n",
       "        text-align: right;\n",
       "    }\n",
       "</style>\n",
       "<table border=\"1\" class=\"dataframe\">\n",
       "  <thead>\n",
       "    <tr style=\"text-align: right;\">\n",
       "      <th></th>\n",
       "      <th>serialNumber</th>\n",
       "    </tr>\n",
       "    <tr>\n",
       "      <th>town</th>\n",
       "      <th></th>\n",
       "    </tr>\n",
       "  </thead>\n",
       "  <tbody>\n",
       "    <tr>\n",
       "      <th>Stamford</th>\n",
       "      <td>7853</td>\n",
       "    </tr>\n",
       "    <tr>\n",
       "      <th>Bridgeport</th>\n",
       "      <td>5977</td>\n",
       "    </tr>\n",
       "    <tr>\n",
       "      <th>Norwalk</th>\n",
       "      <td>5872</td>\n",
       "    </tr>\n",
       "    <tr>\n",
       "      <th>Danbury</th>\n",
       "      <td>4667</td>\n",
       "    </tr>\n",
       "    <tr>\n",
       "      <th>Hartford</th>\n",
       "      <td>4399</td>\n",
       "    </tr>\n",
       "    <tr>\n",
       "      <th>...</th>\n",
       "      <td>...</td>\n",
       "    </tr>\n",
       "    <tr>\n",
       "      <th>Bozrah</th>\n",
       "      <td>95</td>\n",
       "    </tr>\n",
       "    <tr>\n",
       "      <th>Canaan</th>\n",
       "      <td>81</td>\n",
       "    </tr>\n",
       "    <tr>\n",
       "      <th>Union</th>\n",
       "      <td>79</td>\n",
       "    </tr>\n",
       "    <tr>\n",
       "      <th>Voluntown</th>\n",
       "      <td>76</td>\n",
       "    </tr>\n",
       "    <tr>\n",
       "      <th>Hartland</th>\n",
       "      <td>48</td>\n",
       "    </tr>\n",
       "  </tbody>\n",
       "</table>\n",
       "<p>169 rows × 1 columns</p>\n",
       "</div>"
      ],
      "text/plain": [
       "            serialNumber\n",
       "town                    \n",
       "Stamford            7853\n",
       "Bridgeport          5977\n",
       "Norwalk             5872\n",
       "Danbury             4667\n",
       "Hartford            4399\n",
       "...                  ...\n",
       "Bozrah                95\n",
       "Canaan                81\n",
       "Union                 79\n",
       "Voluntown             76\n",
       "Hartland              48\n",
       "\n",
       "[169 rows x 1 columns]"
      ]
     },
     "execution_count": 35,
     "metadata": {},
     "output_type": "execute_result"
    }
   ],
   "source": [
    "gf = df_proyecto.groupby(['town']).count()\n",
    "gf = gf.iloc[:,:1]\n",
    "gf = gf.sort_values('serialNumber', ascending=False)\n",
    "gf"
   ]
  },
  {
   "cell_type": "code",
   "execution_count": 36,
   "id": "13c5a27d",
   "metadata": {
    "scrolled": false
   },
   "outputs": [
    {
     "data": {
      "image/png": "[encoded data removed]",
      "text/plain": [
       "<Figure size 1000x600 with 1 Axes>"
      ]
     },
     "metadata": {},
     "output_type": "display_data"
    }
   ],
   "source": [
    "# Seleccionar el top 10 de ciudades\n",
    "top_5_cities = gf.head(10)\n",
    "\n",
    "# Definir colores\n",
    "min_color = '#69d2e7'\n",
    "max_color = '#fa6900'\n",
    "other_color = '#e5e5e5'\n",
    "\n",
    "# Generando la lista de colores para las barras.\n",
    "colors = [max_color if town == top_5_cities['serialNumber'].idxmax() else\n",
    "          min_color if town == top_5_cities['serialNumber'].idxmin() else\n",
    "          other_color for town in top_5_cities.index]\n",
    "\n",
    "# Aplicando color a las barras.\n",
    "plt.figure(figsize=(10, 6))\n",
    "bars = plt.barh(top_5_cities.index, top_5_cities['serialNumber'], color=colors)\n",
    "\n",
    "# Etiquetas y títulos\n",
    "plt.xlabel('Cantidad')\n",
    "plt.ylabel('Ciudad')\n",
    "plt.suptitle('Gráfico 3: Mayor Cantidad de Ventas de Propiedades en Connecticut desde el año 2001 al 2020', fontsize=14, fontweight='bold')\n",
    "plt.title('Top 10 Ciudades')\n",
    "\n",
    "# Mostrar el gráfico\n",
    "plt.show()\n",
    "\n"
   ]
  },
  {
   "cell_type": "markdown",
   "id": "5aa0b59a",
   "metadata": {},
   "source": [
    "<p Style = \"text-align: justify\"> Como se puede apreciar en este gráfico donde se muestran las 10 principales ciudades con mayor cantidad de venta de propiedades, la que cuenta con el mayor número de venta de propiedades es la ciudad de Stamford.\n",
    "</p>"
   ]
  },
  {
   "cell_type": "markdown",
   "id": "ce733943",
   "metadata": {},
   "source": [
    "<p Style = \"text-align: justify\"> En cuanto a los elementos particulares, las 10 principales ciudades tienen la particularidad de contar con usos mixtos de suelo, lo cual les permite entrar  dentro de todos los tipos de propiedades registradas en el set de datos. Adicionalmente, estas zonas son consideradas,desde el punto de vista urbano estratégicas y convenientes, lo cual las hace mucho más atractivas para  las inversiones que otras localidades.\n",
    "</p>\n",
    "</br>"
   ]
  },
  {
   "cell_type": "markdown",
   "id": "0ad63546",
   "metadata": {},
   "source": [
    "<ul>\n",
    "    <li>¿Cuál es el costo promedio de las propiedades residenciales y comerciales?</li>\n",
    "</ul>"
   ]
  },
  {
   "cell_type": "code",
   "execution_count": 37,
   "id": "6f3c3d85",
   "metadata": {},
   "outputs": [
    {
     "name": "stdout",
     "output_type": "stream",
     "text": [
      "propertyType\n",
      "Apartments       12,906,060\n",
      "Commercial        1,771,752\n",
      "Industrial        1,831,101\n",
      "Public Utility      369,709\n",
      "Residential         479,570\n",
      "Vacant Land         295,714\n",
      "Name: saleAmount, dtype: float64\n"
     ]
    }
   ],
   "source": [
    "# Set de datos temporal para calcular el promedio de saleAmount por propertyType.\n",
    "dfTemp_1 = df_proyecto.groupby('propertyType')['saleAmount'].mean()\n",
    "\n",
    "# Formato para mostrar números reales.\n",
    "pd.options.display.float_format = '{:,.0f}'.format\n",
    "\n",
    "# Imprimir el set de datos.\n",
    "print(dfTemp_1)\n"
   ]
  },
  {
   "cell_type": "markdown",
   "id": "97843f58",
   "metadata": {},
   "source": [
    "<ul>\n",
    "    <li> El costo promedio de venta de las propiedades residenciales es: \\$479,570\n",
    "    <li> El costo promedio de venta de las propiedades residenciales es: \\$1,771,752</li>\n",
    "</ul>"
   ]
  },
  {
   "cell_type": "code",
   "execution_count": 38,
   "id": "0f229637",
   "metadata": {},
   "outputs": [
    {
     "name": "stdout",
     "output_type": "stream",
     "text": [
      "propertyType\n",
      "Apartments       1,174,074\n",
      "Commercial       1,344,210\n",
      "Industrial       1,139,501\n",
      "Public Utility      73,466\n",
      "Residential        289,879\n",
      "Vacant Land        116,025\n",
      "Name: assessedValue, dtype: float64\n"
     ]
    }
   ],
   "source": [
    "# Se procede a hacer lo mismo, pero utilizando la varaible assessedValue como referencia para el costo promedio de mercado.\n",
    "\n",
    "# Set de datos temporal para calcular el promedio de assessedValue por propertyType.\n",
    "dfTemp_1 = df_proyecto.groupby('propertyType')['assessedValue'].mean()\n",
    "\n",
    "# Formato para mostrar número reales.\n",
    "pd.options.display.float_format = '{:,.0f}'.format\n",
    "\n",
    "# Mostrar el set de datos.\n",
    "print(dfTemp_1)\n"
   ]
  },
  {
   "cell_type": "markdown",
   "id": "9e626428",
   "metadata": {},
   "source": [
    "<ul>\n",
    "    <li> El costo promedio de mercado de las propiedades residenciales es: \\$289,879\n",
    "    <li> El costo promedio de mercado de las propiedades residenciales es: \\$1,344,210</li>\n",
    "</ul>"
   ]
  },
  {
   "cell_type": "markdown",
   "id": "29848909",
   "metadata": {},
   "source": [
    "<ul>\n",
    "    <li> ¿Cuáles tipo de propiedades residenciales que se venden con mayor frecuencia, dónde y con qué costo promedio? </li>\n",
    "</ul>\n"
   ]
  },
  {
   "cell_type": "code",
   "execution_count": 39,
   "id": "1100acc5",
   "metadata": {},
   "outputs": [
    {
     "data": {
      "text/html": [
       "<div>\n",
       "<style scoped>\n",
       "    .dataframe tbody tr th:only-of-type {\n",
       "        vertical-align: middle;\n",
       "    }\n",
       "\n",
       "    .dataframe tbody tr th {\n",
       "        vertical-align: top;\n",
       "    }\n",
       "\n",
       "    .dataframe thead th {\n",
       "        text-align: right;\n",
       "    }\n",
       "</style>\n",
       "<table border=\"1\" class=\"dataframe\">\n",
       "  <thead>\n",
       "    <tr style=\"text-align: right;\">\n",
       "      <th></th>\n",
       "      <th>serialNumber</th>\n",
       "    </tr>\n",
       "    <tr>\n",
       "      <th>residentialType</th>\n",
       "      <th></th>\n",
       "    </tr>\n",
       "  </thead>\n",
       "  <tbody>\n",
       "    <tr>\n",
       "      <th>Single Family</th>\n",
       "      <td>43267</td>\n",
       "    </tr>\n",
       "    <tr>\n",
       "      <th>Condo</th>\n",
       "      <td>12661</td>\n",
       "    </tr>\n",
       "    <tr>\n",
       "      <th>Two Family</th>\n",
       "      <td>3199</td>\n",
       "    </tr>\n",
       "    <tr>\n",
       "      <th>Three Family</th>\n",
       "      <td>1488</td>\n",
       "    </tr>\n",
       "    <tr>\n",
       "      <th>Four Family</th>\n",
       "      <td>267</td>\n",
       "    </tr>\n",
       "  </tbody>\n",
       "</table>\n",
       "</div>"
      ],
      "text/plain": [
       "                 serialNumber\n",
       "residentialType              \n",
       "Single Family           43267\n",
       "Condo                   12661\n",
       "Two Family               3199\n",
       "Three Family             1488\n",
       "Four Family               267"
      ]
     },
     "execution_count": 39,
     "metadata": {},
     "output_type": "execute_result"
    }
   ],
   "source": [
    "gf = df_proyecto.groupby(['residentialType']).count()\n",
    "gf = gf.iloc[:,:1]\n",
    "gf = gf.sort_values('serialNumber', ascending=False)\n",
    "gf"
   ]
  },
  {
   "cell_type": "code",
   "execution_count": 40,
   "id": "a119b2b7",
   "metadata": {},
   "outputs": [
    {
     "data": {
      "image/png": "[encoded data removed]",
      "text/plain": [
       "<Figure size 1000x600 with 1 Axes>"
      ]
     },
     "metadata": {},
     "output_type": "display_data"
    }
   ],
   "source": [
    "# Gráfico horizontal\n",
    "plt.figure(figsize=(10, 6)) \n",
    "plt.barh(gf.index, gf['serialNumber'])\n",
    " \n",
    "eje_x = gf.index.tolist()\n",
    "data = gf[\"serialNumber\"].tolist()\n",
    "\n",
    "bar_colors = ['#69d2e7','#e5e5e5','#e5e5e5','#e5e5e5','#fa6900']\n",
    "\n",
    "plt.barh(eje_x, data, color=bar_colors)\n",
    "\n",
    "# Añadir etiquetas y títulos.\n",
    "plt.xlabel('Cantidad')\n",
    "plt.ylabel('Tipo de Residencia')\n",
    "plt.suptitle('Gráfico 4: Residencias Vendidas en Connecticut desde el año 2001 al 2020', fontsize=14, fontweight='bold')\n",
    "plt.title('Tipos de Residencia')\n",
    "\n",
    "# Mostrar gráfico \n",
    "plt.show()"
   ]
  },
  {
   "cell_type": "markdown",
   "id": "e2ae15ea",
   "metadata": {},
   "source": [
    "</br>\n",
    "<p Style = \"text-align: justify\">  Si bien el gráfico funciona para ver la distribución de los datos en los distintos tipos de propiedades residenciales, con el siguiente código se procede a responder las múltiples preguntas:\n",
    "</p>"
   ]
  },
  {
   "cell_type": "code",
   "execution_count": 41,
   "id": "2a3a5755",
   "metadata": {},
   "outputs": [
    {
     "name": "stdout",
     "output_type": "stream",
     "text": [
      "Tipo de propiedad residencial más frecuente: Single Family\n",
      "Ubicación donde se vende más el tipo de propiedad: Greenwich\n",
      "Costo promedio del tipo de propiedad más frecuente: 514,808.96\n"
     ]
    }
   ],
   "source": [
    "# Definición de variables, cálculos y funciones.\n",
    "tipo_propiedad_frecuente = df_proyecto[df_proyecto['propertyType'] == 'Residential']['residentialType'].value_counts().idxmax()\n",
    "ubicacion_tipo_frecuente = df_proyecto[(df_proyecto['propertyType'] == 'Residential') & (df_proyecto['residentialType'] == tipo_propiedad_frecuente)]['town'].value_counts().idxmax()\n",
    "costo_promedio_tipo_frecuente = df_proyecto[(df_proyecto['propertyType'] == 'Residential') & (df_proyecto['residentialType'] == tipo_propiedad_frecuente)]['saleAmount'].mean()\n",
    "\n",
    "# Formatear los costos promedio con decimales.\n",
    "costo_promedio_tipo_frecuente= \"{:,.2f}\".format(costo_promedio_tipo_frecuente)\n",
    "\n",
    "# Se imprimen los resultados\n",
    "print(\"Tipo de propiedad residencial más frecuente:\", tipo_propiedad_frecuente)\n",
    "print(\"Ubicación donde se vende más el tipo de propiedad:\", ubicacion_tipo_frecuente)\n",
    "print(\"Costo promedio del tipo de propiedad más frecuente:\", costo_promedio_tipo_frecuente)"
   ]
  },
  {
   "cell_type": "markdown",
   "id": "3f00fd3d",
   "metadata": {},
   "source": [
    "<p Style = \"text-align: justify\"> Al igual que la variable de\"propertyType\", la variable de \"residentialType\" tiene la limitación de contar con un porcentaje de sesgo importante, siendo que los datos disponibles representan aproximadamente solo el 33% si se compara con el total de observaciones de otras variables. Por lo que se debe tomar en cuenta. Al igual que la anterior variable, considero que sería importante buscar más observaciones para mejorar la calidad y precisión del análisis.</p>\n",
    "</br>"
   ]
  },
  {
   "cell_type": "markdown",
   "id": "579ebffb",
   "metadata": {},
   "source": [
    "<ul>\n",
    "    <li> ¿Cuál es el margen promedio de ganancia por cada una de las propiedades vendidas? </li>\n",
    "</ul>"
   ]
  },
  {
   "cell_type": "code",
   "execution_count": 42,
   "id": "c055f636",
   "metadata": {},
   "outputs": [
    {
     "data": {
      "text/html": [
       "<div>\n",
       "<style scoped>\n",
       "    .dataframe tbody tr th:only-of-type {\n",
       "        vertical-align: middle;\n",
       "    }\n",
       "\n",
       "    .dataframe tbody tr th {\n",
       "        vertical-align: top;\n",
       "    }\n",
       "\n",
       "    .dataframe thead th {\n",
       "        text-align: right;\n",
       "    }\n",
       "</style>\n",
       "<table border=\"1\" class=\"dataframe\">\n",
       "  <thead>\n",
       "    <tr style=\"text-align: right;\">\n",
       "      <th></th>\n",
       "      <th>serialNumber</th>\n",
       "      <th>listYear</th>\n",
       "      <th>dateRecorded</th>\n",
       "      <th>town</th>\n",
       "      <th>address</th>\n",
       "      <th>assessedValue</th>\n",
       "      <th>saleAmount</th>\n",
       "      <th>propertyType</th>\n",
       "      <th>residentialType</th>\n",
       "      <th>salesRatio</th>\n",
       "    </tr>\n",
       "  </thead>\n",
       "  <tbody>\n",
       "    <tr>\n",
       "      <th>0</th>\n",
       "      <td>2020348</td>\n",
       "      <td>2020</td>\n",
       "      <td>9/13/2021</td>\n",
       "      <td>Ansonia</td>\n",
       "      <td>230 WAKELEE AVE</td>\n",
       "      <td>150,500</td>\n",
       "      <td>325,000</td>\n",
       "      <td>Commercial</td>\n",
       "      <td>NaN</td>\n",
       "      <td>2</td>\n",
       "    </tr>\n",
       "    <tr>\n",
       "      <th>1</th>\n",
       "      <td>20002</td>\n",
       "      <td>2020</td>\n",
       "      <td>10/2/2020</td>\n",
       "      <td>Ashford</td>\n",
       "      <td>390 TURNPIKE RD</td>\n",
       "      <td>253,000</td>\n",
       "      <td>430,000</td>\n",
       "      <td>Residential</td>\n",
       "      <td>Single Family</td>\n",
       "      <td>2</td>\n",
       "    </tr>\n",
       "    <tr>\n",
       "      <th>2</th>\n",
       "      <td>200212</td>\n",
       "      <td>2020</td>\n",
       "      <td>3/9/2021</td>\n",
       "      <td>Avon</td>\n",
       "      <td>5 CHESTNUT DRIVE</td>\n",
       "      <td>130,400</td>\n",
       "      <td>179,900</td>\n",
       "      <td>Residential</td>\n",
       "      <td>Condo</td>\n",
       "      <td>1</td>\n",
       "    </tr>\n",
       "    <tr>\n",
       "      <th>3</th>\n",
       "      <td>200243</td>\n",
       "      <td>2020</td>\n",
       "      <td>4/13/2021</td>\n",
       "      <td>Avon</td>\n",
       "      <td>111 NORTHINGTON DRIVE</td>\n",
       "      <td>619,290</td>\n",
       "      <td>890,000</td>\n",
       "      <td>Residential</td>\n",
       "      <td>Single Family</td>\n",
       "      <td>1</td>\n",
       "    </tr>\n",
       "    <tr>\n",
       "      <th>4</th>\n",
       "      <td>200377</td>\n",
       "      <td>2020</td>\n",
       "      <td>7/2/2021</td>\n",
       "      <td>Avon</td>\n",
       "      <td>70 FAR HILLS DRIVE</td>\n",
       "      <td>862,330</td>\n",
       "      <td>1,447,500</td>\n",
       "      <td>Residential</td>\n",
       "      <td>Single Family</td>\n",
       "      <td>2</td>\n",
       "    </tr>\n",
       "  </tbody>\n",
       "</table>\n",
       "</div>"
      ],
      "text/plain": [
       "   serialNumber  listYear dateRecorded     town                address  \\\n",
       "0       2020348      2020    9/13/2021  Ansonia        230 WAKELEE AVE   \n",
       "1         20002      2020    10/2/2020  Ashford        390 TURNPIKE RD   \n",
       "2        200212      2020     3/9/2021     Avon       5 CHESTNUT DRIVE   \n",
       "3        200243      2020    4/13/2021     Avon  111 NORTHINGTON DRIVE   \n",
       "4        200377      2020     7/2/2021     Avon     70 FAR HILLS DRIVE   \n",
       "\n",
       "   assessedValue  saleAmount propertyType residentialType  salesRatio  \n",
       "0        150,500     325,000   Commercial             NaN           2  \n",
       "1        253,000     430,000  Residential   Single Family           2  \n",
       "2        130,400     179,900  Residential           Condo           1  \n",
       "3        619,290     890,000  Residential   Single Family           1  \n",
       "4        862,330   1,447,500  Residential   Single Family           2  "
      ]
     },
     "execution_count": 42,
     "metadata": {},
     "output_type": "execute_result"
    }
   ],
   "source": [
    "# Para obtener el margen promedio de ganancia se debe crear una nueva variable que sea equivalente al cálculo de las \n",
    "# variables saleAmount dividida entre assessedValue (saleAmount/assessedValue).\n",
    "df_proyecto['salesRatio'] = df_proyecto['saleAmount'] / df_proyecto['assessedValue']\n",
    "\n",
    "# Print the updated DataFrame\n",
    "df_proyecto.head(5)"
   ]
  },
  {
   "cell_type": "code",
   "execution_count": 43,
   "id": "ddcf4130",
   "metadata": {},
   "outputs": [
    {
     "name": "stdout",
     "output_type": "stream",
     "text": [
      "Margen Promedio de Ganancia: 5.644976953856372\n"
     ]
    }
   ],
   "source": [
    "# Como algunos resultados de salesRatio son = 0, y para evitar que por esta razón el output sea infinito, \n",
    "# se tiene el siguiente chunk de codigo: \n",
    "filtered_df = df_proyecto[df_proyecto['assessedValue'] != 0]\n",
    "\n",
    "# Cálculo del promedio de la variable \"sales ratio\"\n",
    "sales_ratio_mean = filtered_df['salesRatio'].mean()\n",
    "\n",
    "# Impresión de la media\n",
    "print(\"Margen Promedio de Ganancia:\", sales_ratio_mean)"
   ]
  },
  {
   "cell_type": "markdown",
   "id": "0ad5f2a4",
   "metadata": {},
   "source": [
    "<p Style = \"text-align: justify\"> Es importante indicar que si bien en un inicio el set de datos contaba con esta variable, al hacer un mayor análisis de la misma, se decidió eliminar y proceder a hacer el cálculo con los datos disponibles de las variables saleAmpunt y assessedValue, para darle mayor accuracy al dato.</p>\n",
    "</br>"
   ]
  },
  {
   "cell_type": "markdown",
   "id": "882393b8",
   "metadata": {},
   "source": [
    "<p Style = \"text-align: center\"> Hasta aquí llegan los resultados de mi análisis del proyecto. </p>\n",
    "</br>"
   ]
  }
 ],
 "metadata": {
  "kernelspec": {
   "display_name": "Python 3 (ipykernel)",
   "language": "python",
   "name": "python3"
  },
  "language_info": {
   "codemirror_mode": {
    "name": "ipython",
    "version": 3
   },
   "file_extension": ".py",
   "mimetype": "text/x-python",
   "name": "python",
   "nbconvert_exporter": "python",
   "pygments_lexer": "ipython3",
   "version": "3.10.9"
  }
 },
 "nbformat": 4,
 "nbformat_minor": 5
}
